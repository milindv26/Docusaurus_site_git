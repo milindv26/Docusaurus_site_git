{
 "cells": [
  {
   "cell_type": "code",
   "execution_count": 3,
   "metadata": {},
   "outputs": [
    {
     "data": {
      "text/plain": [
       "{1: 2, 2: 5, 3: 1, 4: 3, 5: 2}"
      ]
     },
     "execution_count": 3,
     "metadata": {},
     "output_type": "execute_result"
    }
   ],
   "source": [
    "\n",
    "def frequency(nums):\n",
    "    freq_dict={}\n",
    "    for i in nums:\n",
    "        if i in freq_dict:\n",
    "            freq_dict[i]+=1\n",
    "        else:\n",
    "            freq_dict[i]=1\n",
    "    return freq_dict\n",
    "\n",
    "frequency([1,1,2,3,4,4,4,5,5,2,2,2,2])"
   ]
  },
  {
   "cell_type": "code",
   "execution_count": 6,
   "metadata": {},
   "outputs": [
    {
     "data": {
      "text/plain": [
       "'No such numbers in the array'"
      ]
     },
     "execution_count": 6,
     "metadata": {},
     "output_type": "execute_result"
    }
   ],
   "source": [
    "def target_sum(arr, target):\n",
    "    left,right=0,len(arr)-1\n",
    "    while left < right:\n",
    "        current_sum=arr[left] + arr[right]\n",
    "        if current_sum == target:\n",
    "            return [arr[left],arr[right]]\n",
    "        elif current_sum < target:\n",
    "            left+=1\n",
    "        else:\n",
    "            right-=1\n",
    "    return 'No such numbers in the array'\n",
    "target_sum([1,2,3,4,4,6],500)\n"
   ]
  },
  {
   "cell_type": "code",
   "execution_count": 1,
   "metadata": {},
   "outputs": [
    {
     "ename": "ValueError",
     "evalue": "Value of 'y' is not the name of a column in 'data_frame'. Expected one of ['branches', 'categories', 'dependencies', 'editors', 'entities', 'languages', 'machines', 'name', 'operating_systems', 'grand_total.decimal', 'grand_total.digital', 'grand_total.hours', 'grand_total.minutes', 'grand_total.percent', 'grand_total.text', 'grand_total.total_seconds', 'date'] but received: grand_total_total_seconds",
     "output_type": "error",
     "traceback": [
      "\u001b[1;31m---------------------------------------------------------------------------\u001b[0m",
      "\u001b[1;31mValueError\u001b[0m                                Traceback (most recent call last)",
      "Cell \u001b[1;32mIn[1], line 87\u001b[0m\n\u001b[0;32m     80\u001b[0m \u001b[38;5;66;03m# Create visualizations\u001b[39;00m\n\u001b[0;32m     81\u001b[0m fig1 \u001b[38;5;241m=\u001b[39m go\u001b[38;5;241m.\u001b[39mFigure(go\u001b[38;5;241m.\u001b[39mIndicator(\n\u001b[0;32m     82\u001b[0m     mode\u001b[38;5;241m=\u001b[39m\u001b[38;5;124m\"\u001b[39m\u001b[38;5;124mnumber\u001b[39m\u001b[38;5;124m\"\u001b[39m,\n\u001b[0;32m     83\u001b[0m     value\u001b[38;5;241m=\u001b[39m\u001b[38;5;28mlen\u001b[39m(days_df),\n\u001b[0;32m     84\u001b[0m     title\u001b[38;5;241m=\u001b[39m{\u001b[38;5;124m\"\u001b[39m\u001b[38;5;124mtext\u001b[39m\u001b[38;5;124m\"\u001b[39m: \u001b[38;5;124m\"\u001b[39m\u001b[38;5;124mTotal Days Tracked\u001b[39m\u001b[38;5;124m\"\u001b[39m},\n\u001b[0;32m     85\u001b[0m ))\n\u001b[1;32m---> 87\u001b[0m fig2 \u001b[38;5;241m=\u001b[39m px\u001b[38;5;241m.\u001b[39mbar(projects_df, x\u001b[38;5;241m=\u001b[39m\u001b[38;5;124m'\u001b[39m\u001b[38;5;124mdate\u001b[39m\u001b[38;5;124m'\u001b[39m, y\u001b[38;5;241m=\u001b[39m\u001b[38;5;124m'\u001b[39m\u001b[38;5;124mgrand_total_total_seconds\u001b[39m\u001b[38;5;124m'\u001b[39m, title\u001b[38;5;241m=\u001b[39m\u001b[38;5;124m'\u001b[39m\u001b[38;5;124mTotal Time Spent Per Day\u001b[39m\u001b[38;5;124m'\u001b[39m)\n\u001b[0;32m     89\u001b[0m \u001b[38;5;66;03m# Combine plots into a dashboard\u001b[39;00m\n\u001b[0;32m     90\u001b[0m \u001b[38;5;28;01mfrom\u001b[39;00m \u001b[38;5;21;01mplotly\u001b[39;00m\u001b[38;5;21;01m.\u001b[39;00m\u001b[38;5;21;01msubplots\u001b[39;00m \u001b[38;5;28;01mimport\u001b[39;00m make_subplots\n",
      "File \u001b[1;32mc:\\Users\\milar\\anaconda3\\envs\\Data_Science\\Lib\\site-packages\\plotly\\express\\_chart_types.py:373\u001b[0m, in \u001b[0;36mbar\u001b[1;34m(data_frame, x, y, color, pattern_shape, facet_row, facet_col, facet_col_wrap, facet_row_spacing, facet_col_spacing, hover_name, hover_data, custom_data, text, base, error_x, error_x_minus, error_y, error_y_minus, animation_frame, animation_group, category_orders, labels, color_discrete_sequence, color_discrete_map, color_continuous_scale, pattern_shape_sequence, pattern_shape_map, range_color, color_continuous_midpoint, opacity, orientation, barmode, log_x, log_y, range_x, range_y, text_auto, title, template, width, height)\u001b[0m\n\u001b[0;32m    325\u001b[0m \u001b[38;5;28;01mdef\u001b[39;00m \u001b[38;5;21mbar\u001b[39m(\n\u001b[0;32m    326\u001b[0m     data_frame\u001b[38;5;241m=\u001b[39m\u001b[38;5;28;01mNone\u001b[39;00m,\n\u001b[0;32m    327\u001b[0m     x\u001b[38;5;241m=\u001b[39m\u001b[38;5;28;01mNone\u001b[39;00m,\n\u001b[1;32m   (...)\u001b[0m\n\u001b[0;32m    367\u001b[0m     height\u001b[38;5;241m=\u001b[39m\u001b[38;5;28;01mNone\u001b[39;00m,\n\u001b[0;32m    368\u001b[0m ) \u001b[38;5;241m-\u001b[39m\u001b[38;5;241m>\u001b[39m go\u001b[38;5;241m.\u001b[39mFigure:\n\u001b[0;32m    369\u001b[0m \u001b[38;5;250m    \u001b[39m\u001b[38;5;124;03m\"\"\"\u001b[39;00m\n\u001b[0;32m    370\u001b[0m \u001b[38;5;124;03m    In a bar plot, each row of `data_frame` is represented as a rectangular\u001b[39;00m\n\u001b[0;32m    371\u001b[0m \u001b[38;5;124;03m    mark.\u001b[39;00m\n\u001b[0;32m    372\u001b[0m \u001b[38;5;124;03m    \"\"\"\u001b[39;00m\n\u001b[1;32m--> 373\u001b[0m     \u001b[38;5;28;01mreturn\u001b[39;00m make_figure(\n\u001b[0;32m    374\u001b[0m         args\u001b[38;5;241m=\u001b[39m\u001b[38;5;28mlocals\u001b[39m(),\n\u001b[0;32m    375\u001b[0m         constructor\u001b[38;5;241m=\u001b[39mgo\u001b[38;5;241m.\u001b[39mBar,\n\u001b[0;32m    376\u001b[0m         trace_patch\u001b[38;5;241m=\u001b[39m\u001b[38;5;28mdict\u001b[39m(textposition\u001b[38;5;241m=\u001b[39m\u001b[38;5;124m\"\u001b[39m\u001b[38;5;124mauto\u001b[39m\u001b[38;5;124m\"\u001b[39m),\n\u001b[0;32m    377\u001b[0m         layout_patch\u001b[38;5;241m=\u001b[39m\u001b[38;5;28mdict\u001b[39m(barmode\u001b[38;5;241m=\u001b[39mbarmode),\n\u001b[0;32m    378\u001b[0m     )\n",
      "File \u001b[1;32mc:\\Users\\milar\\anaconda3\\envs\\Data_Science\\Lib\\site-packages\\plotly\\express\\_core.py:2090\u001b[0m, in \u001b[0;36mmake_figure\u001b[1;34m(args, constructor, trace_patch, layout_patch)\u001b[0m\n\u001b[0;32m   2087\u001b[0m layout_patch \u001b[38;5;241m=\u001b[39m layout_patch \u001b[38;5;129;01mor\u001b[39;00m {}\n\u001b[0;32m   2088\u001b[0m apply_default_cascade(args)\n\u001b[1;32m-> 2090\u001b[0m args \u001b[38;5;241m=\u001b[39m build_dataframe(args, constructor)\n\u001b[0;32m   2091\u001b[0m \u001b[38;5;28;01mif\u001b[39;00m constructor \u001b[38;5;129;01min\u001b[39;00m [go\u001b[38;5;241m.\u001b[39mTreemap, go\u001b[38;5;241m.\u001b[39mSunburst, go\u001b[38;5;241m.\u001b[39mIcicle] \u001b[38;5;129;01mand\u001b[39;00m args[\u001b[38;5;124m\"\u001b[39m\u001b[38;5;124mpath\u001b[39m\u001b[38;5;124m\"\u001b[39m] \u001b[38;5;129;01mis\u001b[39;00m \u001b[38;5;129;01mnot\u001b[39;00m \u001b[38;5;28;01mNone\u001b[39;00m:\n\u001b[0;32m   2092\u001b[0m     args \u001b[38;5;241m=\u001b[39m process_dataframe_hierarchy(args)\n",
      "File \u001b[1;32mc:\\Users\\milar\\anaconda3\\envs\\Data_Science\\Lib\\site-packages\\plotly\\express\\_core.py:1492\u001b[0m, in \u001b[0;36mbuild_dataframe\u001b[1;34m(args, constructor)\u001b[0m\n\u001b[0;32m   1489\u001b[0m     args[\u001b[38;5;124m\"\u001b[39m\u001b[38;5;124mcolor\u001b[39m\u001b[38;5;124m\"\u001b[39m] \u001b[38;5;241m=\u001b[39m \u001b[38;5;28;01mNone\u001b[39;00m\n\u001b[0;32m   1490\u001b[0m \u001b[38;5;66;03m# now that things have been prepped, we do the systematic rewriting of `args`\u001b[39;00m\n\u001b[1;32m-> 1492\u001b[0m df_output, wide_id_vars \u001b[38;5;241m=\u001b[39m process_args_into_dataframe(\n\u001b[0;32m   1493\u001b[0m     args, wide_mode, var_name, value_name\n\u001b[0;32m   1494\u001b[0m )\n\u001b[0;32m   1496\u001b[0m \u001b[38;5;66;03m# now that `df_output` exists and `args` contains only references, we complete\u001b[39;00m\n\u001b[0;32m   1497\u001b[0m \u001b[38;5;66;03m# the special-case and wide-mode handling by further rewriting args and/or mutating\u001b[39;00m\n\u001b[0;32m   1498\u001b[0m \u001b[38;5;66;03m# df_output\u001b[39;00m\n\u001b[0;32m   1500\u001b[0m count_name \u001b[38;5;241m=\u001b[39m _escape_col_name(df_output, \u001b[38;5;124m\"\u001b[39m\u001b[38;5;124mcount\u001b[39m\u001b[38;5;124m\"\u001b[39m, [var_name, value_name])\n",
      "File \u001b[1;32mc:\\Users\\milar\\anaconda3\\envs\\Data_Science\\Lib\\site-packages\\plotly\\express\\_core.py:1213\u001b[0m, in \u001b[0;36mprocess_args_into_dataframe\u001b[1;34m(args, wide_mode, var_name, value_name)\u001b[0m\n\u001b[0;32m   1211\u001b[0m         \u001b[38;5;28;01mif\u001b[39;00m argument \u001b[38;5;241m==\u001b[39m \u001b[38;5;124m\"\u001b[39m\u001b[38;5;124mindex\u001b[39m\u001b[38;5;124m\"\u001b[39m:\n\u001b[0;32m   1212\u001b[0m             err_msg \u001b[38;5;241m+\u001b[39m\u001b[38;5;241m=\u001b[39m \u001b[38;5;124m\"\u001b[39m\u001b[38;5;130;01m\\n\u001b[39;00m\u001b[38;5;124m To use the index, pass it in directly as `df.index`.\u001b[39m\u001b[38;5;124m\"\u001b[39m\n\u001b[1;32m-> 1213\u001b[0m         \u001b[38;5;28;01mraise\u001b[39;00m \u001b[38;5;167;01mValueError\u001b[39;00m(err_msg)\n\u001b[0;32m   1214\u001b[0m \u001b[38;5;28;01melif\u001b[39;00m length \u001b[38;5;129;01mand\u001b[39;00m \u001b[38;5;28mlen\u001b[39m(df_input[argument]) \u001b[38;5;241m!=\u001b[39m length:\n\u001b[0;32m   1215\u001b[0m     \u001b[38;5;28;01mraise\u001b[39;00m \u001b[38;5;167;01mValueError\u001b[39;00m(\n\u001b[0;32m   1216\u001b[0m         \u001b[38;5;124m\"\u001b[39m\u001b[38;5;124mAll arguments should have the same length. \u001b[39m\u001b[38;5;124m\"\u001b[39m\n\u001b[0;32m   1217\u001b[0m         \u001b[38;5;124m\"\u001b[39m\u001b[38;5;124mThe length of column argument `df[\u001b[39m\u001b[38;5;132;01m%s\u001b[39;00m\u001b[38;5;124m]` is \u001b[39m\u001b[38;5;132;01m%d\u001b[39;00m\u001b[38;5;124m, whereas the \u001b[39m\u001b[38;5;124m\"\u001b[39m\n\u001b[1;32m   (...)\u001b[0m\n\u001b[0;32m   1224\u001b[0m         )\n\u001b[0;32m   1225\u001b[0m     )\n",
      "\u001b[1;31mValueError\u001b[0m: Value of 'y' is not the name of a column in 'data_frame'. Expected one of ['branches', 'categories', 'dependencies', 'editors', 'entities', 'languages', 'machines', 'name', 'operating_systems', 'grand_total.decimal', 'grand_total.digital', 'grand_total.hours', 'grand_total.minutes', 'grand_total.percent', 'grand_total.text', 'grand_total.total_seconds', 'date'] but received: grand_total_total_seconds"
     ]
    }
   ],
   "source": [
    "import json\n",
    "import pandas as pd\n",
    "import plotly.express as px\n",
    "import plotly.graph_objects as go\n",
    "\n",
    "# Load the JSON data\n",
    "data = \"\"\"\n",
    "{\n",
    "  \"user\": {\n",
    "    \"bio\": null,\n",
    "    \"city\": null,\n",
    "    \"color_scheme\": \"Dark\",\n",
    "    \"created_at\": \"2024-08-02T11:52:54Z\",\n",
    "    \"date_format\": \"YYYY-MM-DD\",\n",
    "    \"default_dashboard_range\": \"Last 7 Days\",\n",
    "    \"display_name\": \"Anonymous User\",\n",
    "    \"durations_slice_by\": \"Language\",\n",
    "    \"email\": \"milindv26@gmail.com\",\n",
    "    \"full_name\": null,\n",
    "    \"github_username\": null,\n",
    "    \"has_basic_features\": false,\n",
    "    \"has_premium_features\": false,\n",
    "    \"human_readable_website\": null,\n",
    "    \"id\": \"46aec9d3-5c39-4bfa-86e1-a19f81861ebb\",\n",
    "    \"invoice_id_format\": \"INV-{iiiii}\",\n",
    "    \"is_email_confirmed\": false,\n",
    "    \"is_email_public\": false,\n",
    "    \"is_hireable\": false,\n",
    "    \"is_onboarding_finished\": true,\n",
    "    \"languages_used_public\": false,\n",
    "    \"last_branch\": \"main\",\n",
    "    \"last_heartbeat_at\": \"2024-08-02T12:01:03Z\",\n",
    "    \"last_plugin\": \"wakatime/v1.98.3 (windows-10.0.22631.3958-unknown) go1.22.5 vscode/1.92.0 vscode-wakatime/24.6.0\",\n",
    "    \"last_plugin_name\": \"VS Code\",\n",
    "    \"last_project\": \"Docusaurus_site_git\",\n",
    "    \"linkedin_username\": null,\n",
    "    \"location\": null,\n",
    "    \"logged_time_public\": false,\n",
    "    \"meetings_over_coding\": true,\n",
    "    \"modified_at\": \"2024-08-02T11:53:06Z\",\n",
    "    \"needs_payment_method\": false,\n",
    "    \"photo\": \"https://wakatime.com/photo/46aec9d3-5c39-4bfa-86e1-a19f81861ebb\",\n",
    "    \"photo_public\": true,\n",
    "    \"plan\": \"free\",\n",
    "    \"profile_url\": \"https://wakatime.com/@46aec9d3-5c39-4bfa-86e1-a19f81861ebb\",\n",
    "    \"profile_url_escaped\": \"https://wakatime.com/@46aec9d3-5c39-4bfa-86e1-a19f81861ebb\",\n",
    "    \"public_email\": null,\n",
    "    \"public_profile_time_range\": \"last_7_days\",\n",
    "    \"share_all_time_badge\": null,\n",
    "    \"share_last_year_days\": null,\n",
    "    \"show_machine_name_ip\": false,\n",
    "    \"time_format_24hr\": null,\n",
    "    \"time_format_display\": \"text\",\n",
    "    \"timeout\": 15,\n",
    "    \"timezone\": \"Europe/London\",\n",
    "    \"twitter_username\": null,\n",
    "    \"username\": null,\n",
    "    \"website\": null,\n",
    "    \"weekday_start\": 0,\n",
    "    \"wonderfuldev_username\": null,\n",
    "    \"writes_only\": false\n",
    "},\n",
    "  \"range\": {\"end\": 1722639599, \"start\": 1722553200},\n",
    "  \"days\": [\n",
    "    {\"categories\": [{\"decimal\": \"0.00\", \"digital\": \"0:00:00\", \"hours\": 0, \"minutes\": 0, \"name\": \"Coding\", \"percent\": 0, \"seconds\": 0, \"text\": \"0 secs\", \"total_seconds\": 0.0}], \"date\": \"2024-08-02\", \"dependencies\": [], \"editors\": [{\"decimal\": \"0.00\", \"digital\": \"0:00:00\", \"hours\": 0, \"minutes\": 0, \"name\": \"VS Code\", \"percent\": 0, \"seconds\": 0, \"text\": \"0 secs\", \"total_seconds\": 0.0}], \"grand_total\": {\"decimal\": \"0.00\", \"digital\": \"0:00\", \"hours\": 0, \"minutes\": 0, \"text\": \"0 secs\", \"total_seconds\": 0.0}, \"languages\": [{\"decimal\": \"0.00\", \"digital\": \"0:00:00\", \"hours\": 0, \"minutes\": 0, \"name\": \"Markdown\", \"percent\": 0, \"seconds\": 0, \"text\": \"0 secs\", \"total_seconds\": 0.0}], \"machines\": [{\"decimal\": \"0.00\", \"digital\": \"0:00:00\", \"hours\": 0, \"machine_name_id\": \"26f648f9-1d5a-4321-be00-ed8c0bbd059b\", \"minutes\": 0, \"name\": \"Milind_Asus\", \"percent\": 0, \"seconds\": 0, \"text\": \"0 secs\", \"total_seconds\": 0.0}], \"operating_systems\": [{\"decimal\": \"0.00\", \"digital\": \"0:00:00\", \"hours\": 0, \"minutes\": 0, \"name\": \"Windows\", \"percent\": 0, \"seconds\": 0, \"text\": \"0 secs\", \"total_seconds\": 0.0}], \"projects\": [{\"branches\": [{\"decimal\": \"0.00\", \"digital\": \"0:00:00\", \"hours\": 0, \"minutes\": 0, \"name\": \"main\", \"percent\": 0, \"seconds\": 0, \"text\": \"0 secs\", \"total_seconds\": 0.0}], \"categories\": [{\"decimal\": \"0.00\", \"digital\": \"0:00:00\", \"hours\": 0, \"minutes\": 0, \"name\": \"Coding\", \"percent\": 0, \"seconds\": 0, \"text\": \"0 secs\", \"total_seconds\": 0.0}], \"dependencies\": [], \"editors\": [{\"decimal\": \"0.00\", \"digital\": \"0:00:00\", \"hours\": 0, \"minutes\": 0, \"name\": \"VS Code\", \"percent\": 0, \"seconds\": 0, \"text\": \"0 secs\", \"total_seconds\": 0.0}], \"entities\": [{\"decimal\": \"0.00\", \"digital\": \"0:00:00\", \"hours\": 0, \"minutes\": 0, \"name\": \"C:/Users/milar/Desktop/My_Asus_folder/Codes/Docusaurus_site_git/my-website/docs/jnb/900. private_nb.md\", \"percent\": 0, \"project_root_count\": 7, \"seconds\": 0, \"text\": \"0 secs\", \"total_seconds\": 0.0, \"type\": \"file\"}], \"grand_total\": {\"decimal\": \"0.00\", \"digital\": \"0:00\", \"hours\": 0, \"minutes\": 0, \"percent\": 0, \"text\": \"0 secs\", \"total_seconds\": 0.0}, \"languages\": [{\"decimal\": \"0.00\", \"digital\": \"0:00:00\", \"hours\": 0, \"minutes\": 0, \"name\": \"Markdown\", \"percent\": 0, \"seconds\": 0, \"text\": \"0 secs\", \"total_seconds\": 0.0}], \"machines\": [{\"decimal\": \"0.00\", \"digital\": \"0:00:00\", \"hours\": 0, \"machine_name_id\": \"26f648f9-1d5a-4321-be00-ed8c0bbd059b\", \"minutes\": 0, \"name\": \"Milind_Asus\", \"percent\": 0, \"seconds\": 0, \"text\": \"0 secs\", \"total_seconds\": 0.0}], \"name\": \"Docusaurus_site_git\", \"operating_systems\": [{\"decimal\": \"0.00\", \"digital\": \"0:00:00\", \"hours\": 0, \"minutes\": 0, \"name\": \"Windows\", \"percent\": 0, \"seconds\": 0, \"text\": \"0 secs\", \"total_seconds\": 0.0}]}]}\n",
    "  ]\n",
    "}\n",
    "\"\"\"\n",
    "\n",
    "json_data = json.loads(data)\n",
    "\n",
    "# Extract relevant information\n",
    "user_info = json_data['user']\n",
    "days_info = json_data['days']\n",
    "\n",
    "# Create DataFrames for plotting\n",
    "days_df = pd.json_normalize(days_info, sep='_')\n",
    "projects_df = pd.json_normalize(days_info, 'projects', ['date'])\n",
    "\n",
    "# Create visualizations\n",
    "fig1 = go.Figure(go.Indicator(\n",
    "    mode=\"number\",\n",
    "    value=len(days_df),\n",
    "    title={\"text\": \"Total Days Tracked\"},\n",
    "))\n",
    "\n",
    "fig2 = px.bar(projects_df, x='date', y='grand_total_total_seconds', title='Total Time Spent Per Day')\n",
    "\n",
    "# Combine plots into a dashboard\n",
    "from plotly.subplots import make_subplots\n",
    "\n",
    "dashboard = make_subplots(rows=2, cols=1, specs=[[{\"type\": \"indicator\"}], [{\"type\": \"xy\"}]])\n",
    "\n",
    "dashboard.add_trace(fig1.data[0], row=1, col=1)\n",
    "dashboard.add_trace(fig2.data[0], row=2, col=1)\n",
    "\n",
    "dashboard.update_layout(title_text=\"Dashboard\")\n",
    "\n",
    "dashboard.show()\n"
   ]
  },
  {
   "cell_type": "code",
   "execution_count": 8,
   "metadata": {},
   "outputs": [
    {
     "data": {
      "application/vnd.plotly.v1+json": {
       "config": {
        "plotlyServerURL": "https://plot.ly"
       },
       "data": [
        {
         "domain": {
          "x": [
           0,
           1
          ],
          "y": [
           0.575,
           1
          ]
         },
         "mode": "number",
         "title": {
          "text": "Total Days Tracked"
         },
         "type": "indicator",
         "value": 1
        },
        {
         "alignmentgroup": "True",
         "hovertemplate": "date=%{x}<br>grand_total.total_seconds=%{y}<extra></extra>",
         "legendgroup": "",
         "marker": {
          "color": "#636efa",
          "pattern": {
           "shape": ""
          }
         },
         "name": "",
         "offsetgroup": "",
         "orientation": "v",
         "showlegend": false,
         "textposition": "auto",
         "type": "bar",
         "x": [
          "2024-08-02"
         ],
         "xaxis": "x",
         "y": [
          0
         ],
         "yaxis": "y"
        }
       ],
       "layout": {
        "template": {
         "data": {
          "bar": [
           {
            "error_x": {
             "color": "#2a3f5f"
            },
            "error_y": {
             "color": "#2a3f5f"
            },
            "marker": {
             "line": {
              "color": "#E5ECF6",
              "width": 0.5
             },
             "pattern": {
              "fillmode": "overlay",
              "size": 10,
              "solidity": 0.2
             }
            },
            "type": "bar"
           }
          ],
          "barpolar": [
           {
            "marker": {
             "line": {
              "color": "#E5ECF6",
              "width": 0.5
             },
             "pattern": {
              "fillmode": "overlay",
              "size": 10,
              "solidity": 0.2
             }
            },
            "type": "barpolar"
           }
          ],
          "carpet": [
           {
            "aaxis": {
             "endlinecolor": "#2a3f5f",
             "gridcolor": "white",
             "linecolor": "white",
             "minorgridcolor": "white",
             "startlinecolor": "#2a3f5f"
            },
            "baxis": {
             "endlinecolor": "#2a3f5f",
             "gridcolor": "white",
             "linecolor": "white",
             "minorgridcolor": "white",
             "startlinecolor": "#2a3f5f"
            },
            "type": "carpet"
           }
          ],
          "choropleth": [
           {
            "colorbar": {
             "outlinewidth": 0,
             "ticks": ""
            },
            "type": "choropleth"
           }
          ],
          "contour": [
           {
            "colorbar": {
             "outlinewidth": 0,
             "ticks": ""
            },
            "colorscale": [
             [
              0,
              "#0d0887"
             ],
             [
              0.1111111111111111,
              "#46039f"
             ],
             [
              0.2222222222222222,
              "#7201a8"
             ],
             [
              0.3333333333333333,
              "#9c179e"
             ],
             [
              0.4444444444444444,
              "#bd3786"
             ],
             [
              0.5555555555555556,
              "#d8576b"
             ],
             [
              0.6666666666666666,
              "#ed7953"
             ],
             [
              0.7777777777777778,
              "#fb9f3a"
             ],
             [
              0.8888888888888888,
              "#fdca26"
             ],
             [
              1,
              "#f0f921"
             ]
            ],
            "type": "contour"
           }
          ],
          "contourcarpet": [
           {
            "colorbar": {
             "outlinewidth": 0,
             "ticks": ""
            },
            "type": "contourcarpet"
           }
          ],
          "heatmap": [
           {
            "colorbar": {
             "outlinewidth": 0,
             "ticks": ""
            },
            "colorscale": [
             [
              0,
              "#0d0887"
             ],
             [
              0.1111111111111111,
              "#46039f"
             ],
             [
              0.2222222222222222,
              "#7201a8"
             ],
             [
              0.3333333333333333,
              "#9c179e"
             ],
             [
              0.4444444444444444,
              "#bd3786"
             ],
             [
              0.5555555555555556,
              "#d8576b"
             ],
             [
              0.6666666666666666,
              "#ed7953"
             ],
             [
              0.7777777777777778,
              "#fb9f3a"
             ],
             [
              0.8888888888888888,
              "#fdca26"
             ],
             [
              1,
              "#f0f921"
             ]
            ],
            "type": "heatmap"
           }
          ],
          "heatmapgl": [
           {
            "colorbar": {
             "outlinewidth": 0,
             "ticks": ""
            },
            "colorscale": [
             [
              0,
              "#0d0887"
             ],
             [
              0.1111111111111111,
              "#46039f"
             ],
             [
              0.2222222222222222,
              "#7201a8"
             ],
             [
              0.3333333333333333,
              "#9c179e"
             ],
             [
              0.4444444444444444,
              "#bd3786"
             ],
             [
              0.5555555555555556,
              "#d8576b"
             ],
             [
              0.6666666666666666,
              "#ed7953"
             ],
             [
              0.7777777777777778,
              "#fb9f3a"
             ],
             [
              0.8888888888888888,
              "#fdca26"
             ],
             [
              1,
              "#f0f921"
             ]
            ],
            "type": "heatmapgl"
           }
          ],
          "histogram": [
           {
            "marker": {
             "pattern": {
              "fillmode": "overlay",
              "size": 10,
              "solidity": 0.2
             }
            },
            "type": "histogram"
           }
          ],
          "histogram2d": [
           {
            "colorbar": {
             "outlinewidth": 0,
             "ticks": ""
            },
            "colorscale": [
             [
              0,
              "#0d0887"
             ],
             [
              0.1111111111111111,
              "#46039f"
             ],
             [
              0.2222222222222222,
              "#7201a8"
             ],
             [
              0.3333333333333333,
              "#9c179e"
             ],
             [
              0.4444444444444444,
              "#bd3786"
             ],
             [
              0.5555555555555556,
              "#d8576b"
             ],
             [
              0.6666666666666666,
              "#ed7953"
             ],
             [
              0.7777777777777778,
              "#fb9f3a"
             ],
             [
              0.8888888888888888,
              "#fdca26"
             ],
             [
              1,
              "#f0f921"
             ]
            ],
            "type": "histogram2d"
           }
          ],
          "histogram2dcontour": [
           {
            "colorbar": {
             "outlinewidth": 0,
             "ticks": ""
            },
            "colorscale": [
             [
              0,
              "#0d0887"
             ],
             [
              0.1111111111111111,
              "#46039f"
             ],
             [
              0.2222222222222222,
              "#7201a8"
             ],
             [
              0.3333333333333333,
              "#9c179e"
             ],
             [
              0.4444444444444444,
              "#bd3786"
             ],
             [
              0.5555555555555556,
              "#d8576b"
             ],
             [
              0.6666666666666666,
              "#ed7953"
             ],
             [
              0.7777777777777778,
              "#fb9f3a"
             ],
             [
              0.8888888888888888,
              "#fdca26"
             ],
             [
              1,
              "#f0f921"
             ]
            ],
            "type": "histogram2dcontour"
           }
          ],
          "mesh3d": [
           {
            "colorbar": {
             "outlinewidth": 0,
             "ticks": ""
            },
            "type": "mesh3d"
           }
          ],
          "parcoords": [
           {
            "line": {
             "colorbar": {
              "outlinewidth": 0,
              "ticks": ""
             }
            },
            "type": "parcoords"
           }
          ],
          "pie": [
           {
            "automargin": true,
            "type": "pie"
           }
          ],
          "scatter": [
           {
            "fillpattern": {
             "fillmode": "overlay",
             "size": 10,
             "solidity": 0.2
            },
            "type": "scatter"
           }
          ],
          "scatter3d": [
           {
            "line": {
             "colorbar": {
              "outlinewidth": 0,
              "ticks": ""
             }
            },
            "marker": {
             "colorbar": {
              "outlinewidth": 0,
              "ticks": ""
             }
            },
            "type": "scatter3d"
           }
          ],
          "scattercarpet": [
           {
            "marker": {
             "colorbar": {
              "outlinewidth": 0,
              "ticks": ""
             }
            },
            "type": "scattercarpet"
           }
          ],
          "scattergeo": [
           {
            "marker": {
             "colorbar": {
              "outlinewidth": 0,
              "ticks": ""
             }
            },
            "type": "scattergeo"
           }
          ],
          "scattergl": [
           {
            "marker": {
             "colorbar": {
              "outlinewidth": 0,
              "ticks": ""
             }
            },
            "type": "scattergl"
           }
          ],
          "scattermapbox": [
           {
            "marker": {
             "colorbar": {
              "outlinewidth": 0,
              "ticks": ""
             }
            },
            "type": "scattermapbox"
           }
          ],
          "scatterpolar": [
           {
            "marker": {
             "colorbar": {
              "outlinewidth": 0,
              "ticks": ""
             }
            },
            "type": "scatterpolar"
           }
          ],
          "scatterpolargl": [
           {
            "marker": {
             "colorbar": {
              "outlinewidth": 0,
              "ticks": ""
             }
            },
            "type": "scatterpolargl"
           }
          ],
          "scatterternary": [
           {
            "marker": {
             "colorbar": {
              "outlinewidth": 0,
              "ticks": ""
             }
            },
            "type": "scatterternary"
           }
          ],
          "surface": [
           {
            "colorbar": {
             "outlinewidth": 0,
             "ticks": ""
            },
            "colorscale": [
             [
              0,
              "#0d0887"
             ],
             [
              0.1111111111111111,
              "#46039f"
             ],
             [
              0.2222222222222222,
              "#7201a8"
             ],
             [
              0.3333333333333333,
              "#9c179e"
             ],
             [
              0.4444444444444444,
              "#bd3786"
             ],
             [
              0.5555555555555556,
              "#d8576b"
             ],
             [
              0.6666666666666666,
              "#ed7953"
             ],
             [
              0.7777777777777778,
              "#fb9f3a"
             ],
             [
              0.8888888888888888,
              "#fdca26"
             ],
             [
              1,
              "#f0f921"
             ]
            ],
            "type": "surface"
           }
          ],
          "table": [
           {
            "cells": {
             "fill": {
              "color": "#EBF0F8"
             },
             "line": {
              "color": "white"
             }
            },
            "header": {
             "fill": {
              "color": "#C8D4E3"
             },
             "line": {
              "color": "white"
             }
            },
            "type": "table"
           }
          ]
         },
         "layout": {
          "annotationdefaults": {
           "arrowcolor": "#2a3f5f",
           "arrowhead": 0,
           "arrowwidth": 1
          },
          "autotypenumbers": "strict",
          "coloraxis": {
           "colorbar": {
            "outlinewidth": 0,
            "ticks": ""
           }
          },
          "colorscale": {
           "diverging": [
            [
             0,
             "#8e0152"
            ],
            [
             0.1,
             "#c51b7d"
            ],
            [
             0.2,
             "#de77ae"
            ],
            [
             0.3,
             "#f1b6da"
            ],
            [
             0.4,
             "#fde0ef"
            ],
            [
             0.5,
             "#f7f7f7"
            ],
            [
             0.6,
             "#e6f5d0"
            ],
            [
             0.7,
             "#b8e186"
            ],
            [
             0.8,
             "#7fbc41"
            ],
            [
             0.9,
             "#4d9221"
            ],
            [
             1,
             "#276419"
            ]
           ],
           "sequential": [
            [
             0,
             "#0d0887"
            ],
            [
             0.1111111111111111,
             "#46039f"
            ],
            [
             0.2222222222222222,
             "#7201a8"
            ],
            [
             0.3333333333333333,
             "#9c179e"
            ],
            [
             0.4444444444444444,
             "#bd3786"
            ],
            [
             0.5555555555555556,
             "#d8576b"
            ],
            [
             0.6666666666666666,
             "#ed7953"
            ],
            [
             0.7777777777777778,
             "#fb9f3a"
            ],
            [
             0.8888888888888888,
             "#fdca26"
            ],
            [
             1,
             "#f0f921"
            ]
           ],
           "sequentialminus": [
            [
             0,
             "#0d0887"
            ],
            [
             0.1111111111111111,
             "#46039f"
            ],
            [
             0.2222222222222222,
             "#7201a8"
            ],
            [
             0.3333333333333333,
             "#9c179e"
            ],
            [
             0.4444444444444444,
             "#bd3786"
            ],
            [
             0.5555555555555556,
             "#d8576b"
            ],
            [
             0.6666666666666666,
             "#ed7953"
            ],
            [
             0.7777777777777778,
             "#fb9f3a"
            ],
            [
             0.8888888888888888,
             "#fdca26"
            ],
            [
             1,
             "#f0f921"
            ]
           ]
          },
          "colorway": [
           "#636efa",
           "#EF553B",
           "#00cc96",
           "#ab63fa",
           "#FFA15A",
           "#19d3f3",
           "#FF6692",
           "#B6E880",
           "#FF97FF",
           "#FECB52"
          ],
          "font": {
           "color": "#2a3f5f"
          },
          "geo": {
           "bgcolor": "white",
           "lakecolor": "white",
           "landcolor": "#E5ECF6",
           "showlakes": true,
           "showland": true,
           "subunitcolor": "white"
          },
          "hoverlabel": {
           "align": "left"
          },
          "hovermode": "closest",
          "mapbox": {
           "style": "light"
          },
          "paper_bgcolor": "white",
          "plot_bgcolor": "#E5ECF6",
          "polar": {
           "angularaxis": {
            "gridcolor": "white",
            "linecolor": "white",
            "ticks": ""
           },
           "bgcolor": "#E5ECF6",
           "radialaxis": {
            "gridcolor": "white",
            "linecolor": "white",
            "ticks": ""
           }
          },
          "scene": {
           "xaxis": {
            "backgroundcolor": "#E5ECF6",
            "gridcolor": "white",
            "gridwidth": 2,
            "linecolor": "white",
            "showbackground": true,
            "ticks": "",
            "zerolinecolor": "white"
           },
           "yaxis": {
            "backgroundcolor": "#E5ECF6",
            "gridcolor": "white",
            "gridwidth": 2,
            "linecolor": "white",
            "showbackground": true,
            "ticks": "",
            "zerolinecolor": "white"
           },
           "zaxis": {
            "backgroundcolor": "#E5ECF6",
            "gridcolor": "white",
            "gridwidth": 2,
            "linecolor": "white",
            "showbackground": true,
            "ticks": "",
            "zerolinecolor": "white"
           }
          },
          "shapedefaults": {
           "line": {
            "color": "#2a3f5f"
           }
          },
          "ternary": {
           "aaxis": {
            "gridcolor": "white",
            "linecolor": "white",
            "ticks": ""
           },
           "baxis": {
            "gridcolor": "white",
            "linecolor": "white",
            "ticks": ""
           },
           "bgcolor": "#E5ECF6",
           "caxis": {
            "gridcolor": "white",
            "linecolor": "white",
            "ticks": ""
           }
          },
          "title": {
           "x": 0.05
          },
          "xaxis": {
           "automargin": true,
           "gridcolor": "white",
           "linecolor": "white",
           "ticks": "",
           "title": {
            "standoff": 15
           },
           "zerolinecolor": "white",
           "zerolinewidth": 2
          },
          "yaxis": {
           "automargin": true,
           "gridcolor": "white",
           "linecolor": "white",
           "ticks": "",
           "title": {
            "standoff": 15
           },
           "zerolinecolor": "white",
           "zerolinewidth": 2
          }
         }
        },
        "xaxis": {
         "anchor": "y",
         "domain": [
          0,
          1
         ]
        },
        "yaxis": {
         "anchor": "x",
         "domain": [
          0,
          0.425
         ]
        }
       }
      }
     },
     "metadata": {},
     "output_type": "display_data"
    }
   ],
   "source": [
    "import json\n",
    "import pandas as pd\n",
    "import plotly.express as px\n",
    "import plotly.graph_objects as go\n",
    "\n",
    "# Load the JSON data\n",
    "data = \"\"\"\n",
    "{\n",
    "  \"user\": {\n",
    "    \"bio\": null,\n",
    "    \"city\": null,\n",
    "    \"color_scheme\": \"Dark\",\n",
    "    \"created_at\": \"2024-08-02T11:52:54Z\",\n",
    "    \"date_format\": \"YYYY-MM-DD\",\n",
    "    \"default_dashboard_range\": \"Last 7 Days\",\n",
    "    \"display_name\": \"Anonymous User\",\n",
    "    \"durations_slice_by\": \"Language\",\n",
    "    \"email\": \"milindv26@gmail.com\",\n",
    "    \"full_name\": null,\n",
    "    \"github_username\": null,\n",
    "    \"has_basic_features\": false,\n",
    "    \"has_premium_features\": false,\n",
    "    \"human_readable_website\": null,\n",
    "    \"id\": \"46aec9d3-5c39-4bfa-86e1-a19f81861ebb\",\n",
    "    \"invoice_id_format\": \"INV-{iiiii}\",\n",
    "    \"is_email_confirmed\": false,\n",
    "    \"is_email_public\": false,\n",
    "    \"is_hireable\": false,\n",
    "    \"is_onboarding_finished\": true,\n",
    "    \"languages_used_public\": false,\n",
    "    \"last_branch\": \"main\",\n",
    "    \"last_heartbeat_at\": \"2024-08-02T12:01:03Z\",\n",
    "    \"last_plugin\": \"wakatime/v1.98.3 (windows-10.0.22631.3958-unknown) go1.22.5 vscode/1.92.0 vscode-wakatime/24.6.0\",\n",
    "    \"last_plugin_name\": \"VS Code\",\n",
    "    \"last_project\": \"Docusaurus_site_git\",\n",
    "    \"linkedin_username\": null,\n",
    "    \"location\": null,\n",
    "    \"logged_time_public\": false,\n",
    "    \"meetings_over_coding\": true,\n",
    "    \"modified_at\": \"2024-08-02T11:53:06Z\",\n",
    "    \"needs_payment_method\": false,\n",
    "    \"photo\": \"https://wakatime.com/photo/46aec9d3-5c39-4bfa-86e1-a19f81861ebb\",\n",
    "    \"photo_public\": true,\n",
    "    \"plan\": \"free\",\n",
    "    \"profile_url\": \"https://wakatime.com/@46aec9d3-5c39-4bfa-86e1-a19f81861ebb\",\n",
    "    \"profile_url_escaped\": \"https://wakatime.com/@46aec9d3-5c39-4bfa-86e1-a19f81861ebb\",\n",
    "    \"public_email\": null,\n",
    "    \"public_profile_time_range\": \"last_7_days\",\n",
    "    \"share_all_time_badge\": null,\n",
    "    \"share_last_year_days\": null,\n",
    "    \"show_machine_name_ip\": false,\n",
    "    \"time_format_24hr\": null,\n",
    "    \"time_format_display\": \"text\",\n",
    "    \"timeout\": 15,\n",
    "    \"timezone\": \"Europe/London\",\n",
    "    \"twitter_username\": null,\n",
    "    \"username\": null,\n",
    "    \"website\": null,\n",
    "    \"weekday_start\": 0,\n",
    "    \"wonderfuldev_username\": null,\n",
    "    \"writes_only\": false\n",
    "},\n",
    "  \"range\": {\"end\": 1722639599, \"start\": 1722553200},\n",
    "  \"days\": [\n",
    "    {\"categories\": [{\"decimal\": \"0.00\", \"digital\": \"0:00:00\", \"hours\": 0, \"minutes\": 0, \"name\": \"Coding\", \"percent\": 0, \"seconds\": 0, \"text\": \"0 secs\", \"total_seconds\": 0.0}], \"date\": \"2024-08-02\", \"dependencies\": [], \"editors\": [{\"decimal\": \"0.00\", \"digital\": \"0:00:00\", \"hours\": 0, \"minutes\": 0, \"name\": \"VS Code\", \"percent\": 0, \"seconds\": 0, \"text\": \"0 secs\", \"total_seconds\": 0.0}], \"grand_total\": {\"decimal\": \"0.00\", \"digital\": \"0:00\", \"hours\": 0, \"minutes\": 0, \"text\": \"0 secs\", \"total_seconds\": 0.0}, \"languages\": [{\"decimal\": \"0.00\", \"digital\": \"0:00:00\", \"hours\": 0, \"minutes\": 0, \"name\": \"Markdown\", \"percent\": 0, \"seconds\": 0, \"text\": \"0 secs\", \"total_seconds\": 0.0}], \"machines\": [{\"decimal\": \"0.00\", \"digital\": \"0:00:00\", \"hours\": 0, \"machine_name_id\": \"26f648f9-1d5a-4321-be00-ed8c0bbd059b\", \"minutes\": 0, \"name\": \"Milind_Asus\", \"percent\": 0, \"seconds\": 0, \"text\": \"0 secs\", \"total_seconds\": 0.0}], \"operating_systems\": [{\"decimal\": \"0.00\", \"digital\": \"0:00:00\", \"hours\": 0, \"minutes\": 0, \"name\": \"Windows\", \"percent\": 0, \"seconds\": 0, \"text\": \"0 secs\", \"total_seconds\": 0.0}], \"projects\": [{\"branches\": [{\"decimal\": \"0.00\", \"digital\": \"0:00:00\", \"hours\": 0, \"minutes\": 0, \"name\": \"main\", \"percent\": 0, \"seconds\": 0, \"text\": \"0 secs\", \"total_seconds\": 0.0}], \"categories\": [{\"decimal\": \"0.00\", \"digital\": \"0:00:00\", \"hours\": 0, \"minutes\": 0, \"name\": \"Coding\", \"percent\": 0, \"seconds\": 0, \"text\": \"0 secs\", \"total_seconds\": 0.0}], \"dependencies\": [], \"editors\": [{\"decimal\": \"0.00\", \"digital\": \"0:00:00\", \"hours\": 0, \"minutes\": 0, \"name\": \"VS Code\", \"percent\": 0, \"seconds\": 0, \"text\": \"0 secs\", \"total_seconds\": 0.0}], \"entities\": [{\"decimal\": \"0.00\", \"digital\": \"0:00:00\", \"hours\": 0, \"minutes\": 0, \"name\": \"C:/Users/milar/Desktop/My_Asus_folder/Codes/Docusaurus_site_git/my-website/docs/jnb/900. private_nb.md\", \"percent\": 0, \"project_root_count\": 7, \"seconds\": 0, \"text\": \"0 secs\", \"total_seconds\": 0.0, \"type\": \"file\"}], \"grand_total\": {\"decimal\": \"0.00\", \"digital\": \"0:00\", \"hours\": 0, \"minutes\": 0, \"percent\": 0, \"text\": \"0 secs\", \"total_seconds\": 0.0}, \"languages\": [{\"decimal\": \"0.00\", \"digital\": \"0:00:00\", \"hours\": 0, \"minutes\": 0, \"name\": \"Markdown\", \"percent\": 0, \"seconds\": 0, \"text\": \"0 secs\", \"total_seconds\": 0.0}], \"machines\": [{\"decimal\": \"0.00\", \"digital\": \"0:00:00\", \"hours\": 0, \"machine_name_id\": \"26f648f9-1d5a-4321-be00-ed8c0bbd059b\", \"minutes\": 0, \"name\": \"Milind_Asus\", \"percent\": 0, \"seconds\": 0, \"text\": \"0 secs\", \"total_seconds\": 0.0}], \"name\": \"Docusaurus_site_git\", \"operating_systems\": [{\"decimal\": \"0.00\", \"digital\": \"0:00:00\", \"hours\": 0, \"minutes\": 0, \"name\": \"Windows\", \"percent\": 0, \"seconds\": 0, \"text\": \"0 secs\", \"total_seconds\": 0.0}]}]}\n",
    "  ]\n",
    "}\n",
    "\"\"\"\n",
    "\n",
    "json_data = json.loads(data)\n",
    "\n",
    "# Extract relevant information\n",
    "user_info = json_data['user']\n",
    "days_info = json_data['days']\n",
    "\n",
    "# Create DataFrames for plotting\n",
    "days_df = pd.json_normalize(days_info, sep='_')\n",
    "projects_df = pd.json_normalize(days_info, 'projects', ['date'])\n",
    "\n",
    "# Create visualizations\n",
    "fig1 = go.Figure(go.Indicator(\n",
    "    mode=\"number\",\n",
    "    value=len(days_df),\n",
    "    title={\"text\": \"Total Days Tracked\"},\n",
    "))\n",
    "\n",
    "fig2 = px.bar(projects_df, x='date', y='grand_total.total_seconds', title='Total Time Spent Per Day')\n",
    "\n",
    "# Combine plots into a dashboard\n",
    "from plotly.subplots import make_subplots\n",
    "\n",
    "dashboard = make_subplots(rows=2, cols=1, specs=[[{\"type\": \"indicator\"}], [{\"type\": \"xy\"}]])\n",
    "\n",
    "dashboard.add_trace(fig1.data[0], row=1, col=1)\n",
    "dashboard.add_trace(fig2.data[0], row=2, col=1)\n",
    "\n",
    "dashboard.update_layout\n",
    "dashboard.show()\n"
   ]
  }
 ],
 "metadata": {
  "kernelspec": {
   "display_name": "Data_Science",
   "language": "python",
   "name": "python3"
  },
  "language_info": {
   "codemirror_mode": {
    "name": "ipython",
    "version": 3
   },
   "file_extension": ".py",
   "mimetype": "text/x-python",
   "name": "python",
   "nbconvert_exporter": "python",
   "pygments_lexer": "ipython3",
   "version": "3.11.5"
  }
 },
 "nbformat": 4,
 "nbformat_minor": 2
}
