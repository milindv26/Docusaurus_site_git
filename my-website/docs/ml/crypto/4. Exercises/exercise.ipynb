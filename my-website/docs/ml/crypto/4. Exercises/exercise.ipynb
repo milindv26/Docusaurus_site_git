{
 "cells": [
  {
   "cell_type": "code",
   "execution_count": 7,
   "metadata": {},
   "outputs": [],
   "source": [
    "import pandas as pd"
   ]
  },
  {
   "cell_type": "code",
   "execution_count": 4,
   "metadata": {},
   "outputs": [],
   "source": [
    "def letter_frequency(paragraph):\n",
    "    # Convert the paragraph to lowercase to ensure uniformity\n",
    "    paragraph = paragraph.lower()\n",
    "\n",
    "    # Create a dictionary to store letter frequency\n",
    "    frequency = {}\n",
    "    for char in paragraph:\n",
    "        # Check if the character is a letter\n",
    "        if char.isalpha():\n",
    "            if char in frequency:\n",
    "                frequency[char] += 1\n",
    "            else:\n",
    "                frequency[char] = 1\n",
    "\n",
    "    return dict(sorted(frequency.items(), key=lambda x: x[1], reverse=True))"
   ]
  },
  {
   "cell_type": "code",
   "execution_count": 9,
   "metadata": {},
   "outputs": [
    {
     "data": {
      "text/plain": [
       "{'f': 37,\n",
       " 'q': 26,\n",
       " 'w': 21,\n",
       " 'g': 19,\n",
       " 'l': 17,\n",
       " 'o': 16,\n",
       " 'v': 15,\n",
       " 'h': 14,\n",
       " 'b': 12,\n",
       " 'p': 10,\n",
       " 'j': 9,\n",
       " 'i': 9,\n",
       " 'r': 7,\n",
       " 'z': 7,\n",
       " 'm': 4,\n",
       " 'e': 4,\n",
       " 'y': 3,\n",
       " 'k': 3,\n",
       " 'c': 3,\n",
       " 'a': 3,\n",
       " 'd': 2,\n",
       " 's': 2,\n",
       " 'x': 1}"
      ]
     },
     "execution_count": 9,
     "metadata": {},
     "output_type": "execute_result"
    }
   ],
   "source": [
    "paragraph = \"JGRMQOYGHMVBJWRWQFPWHGFFDQGFPFZRKBEEBJIZQQOCIBZKLFAFGQVFZFWWEOGWOPFGFHWOLPHLRLOLFDMFGQWBLWBWQOLKFWBYLBLYLFSFLJGRMQBOLWJVFPFWQVHQWFFPQOQVFPQOCFPOGFWFJIGFQVHLHLROQVFGWJVFPFOLFHGQVQVFILEOGQILHQFQGIQVVOSFAFGBWQVHQWIJVWJVFPFWHGFIWIHZZRQGBABHZQOCGFHX\"\n",
    "letter_frequency(paragraph)"
   ]
  },
  {
   "cell_type": "code",
   "execution_count": 22,
   "metadata": {},
   "outputs": [
    {
     "name": "stdout",
     "output_type": "stream",
     "text": [
      "douftngorfshdauatelaroeevtoelemuwhpphdcmttnychmwiebeotsemeaapnoanleoeranilriuinievfeotahiahatniweahgihigiekeidoufthniadseleatsrtaeeltntseltnyelnoeaedcoetsririuntseoadselenierotstsecipnotcirtetoctssnkebeohatsrtacdsadselearoecacrmmutohbhrmtnyoerx\n"
     ]
    }
   ],
   "source": [
    "import operator\n",
    "\n",
    "def decrypt_with_frequency_analysis(ciphertext, english_freq_order):\n",
    "    # Remove line breaks and spaces from the ciphertext\n",
    "    ciphertext = ciphertext.replace('\\n', '').replace(' ', '')\n",
    "\n",
    "    # Count the frequency of each letter in the ciphertext\n",
    "    frequency = {}\n",
    "    for letter in ciphertext:\n",
    "        if letter in frequency:\n",
    "            frequency[letter] += 1\n",
    "        else:\n",
    "            frequency[letter] = 1\n",
    "\n",
    "    # Sort the frequency dictionary by frequency in descending order\n",
    "    sorted_freq = sorted(frequency.items(), key=operator.itemgetter(1), reverse=True)\n",
    "    \n",
    "    # Create a mapping from the sorted frequency to the English frequency order\n",
    "    decryption_key = {}\n",
    "    for i, letter_tuple in enumerate(sorted_freq):\n",
    "        if i < len(english_freq_order):\n",
    "            decryption_key[letter_tuple[0]] = english_freq_order[i]\n",
    "\n",
    "    # Decrypt the message\n",
    "    decrypted_message = ''\n",
    "    for letter in ciphertext:\n",
    "        if letter in decryption_key:\n",
    "            decrypted_message += decryption_key[letter]\n",
    "        else:\n",
    "            decrypted_message += letter\n",
    "\n",
    "    return decrypted_message\n",
    "\n",
    "# The most common letters in English in descending order of frequency\n",
    "english_freq_order = 'etaoinsrhldcumfpgwybvkxjqz'\n",
    "\n",
    "# The ciphertext\n",
    "ciphertext = (\"JGRMQOYGHMVBJWRWQFPWHGFFDQGFPFZRKBEEBJIZQQOCIBZKLFAFGQVFZFWWE\"\n",
    "              \"OGWOPFGFHWOLPHLRLOLFDMFGQWBLWBWQOLKFWBYLBLYLFSFLJGRMQBOLWJVFP\"\n",
    "              \"FWQVHQWFFPQOQVFPQOCFPOGFWFJIGFQVHLHLROQVFGWJVFPFOLFHGQVQVFILE\"\n",
    "              \"OGQILHQFQGIQVVOSFAFGBWQVHQWIJVWJVFPFWHGFIWIHZZRQGBABHZQOCGFHX\")\n",
    "\n",
    "# Attempt to decrypt the message\n",
    "decrypted_message = decrypt_with_frequency_analysis(ciphertext, english_freq_order)\n",
    "print(decrypted_message)\n"
   ]
  }
 ],
 "metadata": {
  "kernelspec": {
   "display_name": "Data_Science",
   "language": "python",
   "name": "python3"
  },
  "language_info": {
   "codemirror_mode": {
    "name": "ipython",
    "version": 3
   },
   "file_extension": ".py",
   "mimetype": "text/x-python",
   "name": "python",
   "nbconvert_exporter": "python",
   "pygments_lexer": "ipython3",
   "version": "3.11.5"
  }
 },
 "nbformat": 4,
 "nbformat_minor": 2
}
