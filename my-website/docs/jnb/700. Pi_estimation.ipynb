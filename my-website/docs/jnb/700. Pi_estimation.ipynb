{
 "cells": [
  {
   "cell_type": "code",
   "execution_count": 1,
   "metadata": {},
   "outputs": [],
   "source": [
    "import numpy as np\n",
    "import matplotlib.pyplot as plt"
   ]
  },
  {
   "cell_type": "code",
   "execution_count": 84,
   "metadata": {},
   "outputs": [],
   "source": [
    "import matplotlib.pyplot as plt\n",
    "import matplotlib.patches as patches\n",
    "import numpy as np\n",
    "import random\n",
    "\n",
    "#np.random.seed(10)\n",
    "filenames = []\n",
    "for i in range(6):\n",
    "    # Create a figure and axis\n",
    "    fig, ax = plt.subplots()\n",
    "\n",
    "    # Creating a square with unit side (1x1)\n",
    "    square = patches.Rectangle((-0.5, -0.5), 1, 1, edgecolor='blue', facecolor=\"none\")\n",
    "    ax.add_patch(square)\n",
    "\n",
    "    # Creating a circle with unit radius\n",
    "    circle = plt.Circle((3, 0), radius=1, edgecolor='red', facecolor=\"none\")\n",
    "    ax.add_patch(circle)\n",
    "\n",
    "    # Setting the limits of the plot\n",
    "    ax.set_xlim(-2, 5)\n",
    "    ax.set_ylim(-2, 2)\n",
    "\n",
    "    # Equal aspect ratio to ensure the square and circle are shown correctly\n",
    "    ax.set_aspect('equal', adjustable='box')\n",
    "    plt.axhline(y=0, color='green', linestyle='dotted')\n",
    "    plt.axvline(x=0, color='green', linestyle='dotted')\n",
    "    plt.axvline(x=3, color='green', linestyle='dotted')\n",
    "    #plt.axvline(x=2.5, color='green', linestyle='dotted')\n",
    "\n",
    "    # Adding arrows\n",
    "    plt.annotate('', xy=(-0.5, -0.7), xytext=(0.5, -0.7), arrowprops=dict(arrowstyle='<->', color='black'))\n",
    "    plt.text(0, -1, '1 unit', ha='center')\n",
    "\n",
    "    plt.annotate('', xy=(3,0), xytext=( np.cos(np.pi/4)+3,  np.sin(np.pi/4)), arrowprops=dict(arrowstyle='<-', color='black'))\n",
    "    plt.text(3.5, 0.1, '1 unit', ha='center')\n",
    "\n",
    "\n",
    "    x, y = np.random.uniform(-2, 5, 100), np.random.uniform(-2, 2, 100)\n",
    "    z=((x-3)**2)+(y**2)\n",
    "    square_condition = (x >= -0.5) & (x <= 0.5) & (y >= -0.5) & (y <= 0.5)\n",
    "    inside_square = np.sum(square_condition)\n",
    "    inside_circle = np.sum(z <= 1)\n",
    "    plt.scatter(x, y,s=5)\n",
    "    plt.title(f'Step {i}/5')\n",
    "    \n",
    "    # Save frame\n",
    "    filename = f'frames/step_{i}.png'\n",
    "    filenames.append(filename)\n",
    "    plt.savefig(filename)\n",
    "    plt.close()\n",
    "    \n",
    "    \n",
    "   \n"
   ]
  },
  {
   "cell_type": "code",
   "execution_count": 49,
   "metadata": {},
   "outputs": [
    {
     "data": {
      "text/plain": [
       "1"
      ]
     },
     "execution_count": 49,
     "metadata": {},
     "output_type": "execute_result"
    }
   ],
   "source": [
    "inside_square"
   ]
  },
  {
   "cell_type": "code",
   "execution_count": 48,
   "metadata": {},
   "outputs": [
    {
     "data": {
      "text/plain": [
       "5"
      ]
     },
     "execution_count": 48,
     "metadata": {},
     "output_type": "execute_result"
    }
   ],
   "source": [
    "inside_circle"
   ]
  },
  {
   "cell_type": "code",
   "execution_count": 42,
   "metadata": {},
   "outputs": [
    {
     "data": {
      "text/plain": [
       "array([ 0.70912837, 26.85751349,  4.25569491,  0.06076211,  3.84517181,\n",
       "       11.94297172, 13.84462222,  0.79784053, 17.3561302 , 19.93528949])"
      ]
     },
     "execution_count": 42,
     "metadata": {},
     "output_type": "execute_result"
    }
   ],
   "source": [
    "((x-3)**2)+(y**2)"
   ]
  },
  {
   "cell_type": "code",
   "execution_count": 31,
   "metadata": {},
   "outputs": [
    {
     "data": {
      "text/plain": [
       "array([8.42238295e+00, 1.30839885e-01, 2.00271950e+01, 1.62484446e+01,\n",
       "       4.44539698e-02, 2.14735315e+01, 4.70722359e+00, 3.14341789e+01,\n",
       "       3.55958362e+01, 4.41634221e-01, 3.19523569e+01, 2.65188333e+01,\n",
       "       7.32395026e+00, 2.64225847e+00, 2.68872945e+01, 2.01173171e-01,\n",
       "       2.24589574e+01, 1.43319541e+01, 3.34378771e+00, 3.02213255e+00,\n",
       "       1.94755714e+01, 1.28327777e+01, 3.46650553e+01, 4.21299393e+00,\n",
       "       2.05244163e-01, 1.67932358e+00, 3.84177481e+00, 2.59481934e+00,\n",
       "       2.16684879e+00, 2.78538319e+00, 6.23816585e+00, 7.31524075e+00,\n",
       "       1.46108053e+01, 1.39515040e+00, 2.53498845e+01, 1.17681687e+00,\n",
       "       3.33861013e+01, 3.38934711e+00, 8.81509522e-01, 3.43816390e+01,\n",
       "       6.34584968e+00, 7.75519095e+00, 3.68614637e+00, 1.71263758e+00,\n",
       "       3.40031715e+00, 2.81310218e+01, 1.75396090e+00, 3.85514211e+00,\n",
       "       6.86308907e+00, 5.82788056e-04, 1.46864806e-05, 5.11357229e+00,\n",
       "       1.49605211e+01, 3.23792789e+01, 2.62208506e-02, 1.17283528e+00,\n",
       "       7.67229698e-02, 1.27270439e+01, 3.24829788e+01, 2.70082232e+01,\n",
       "       1.25302419e-02, 2.45626510e+01, 3.30450571e-01, 2.28381633e+01,\n",
       "       1.79818411e+01, 2.03143330e+00, 2.50241979e+01, 1.73243577e-01,\n",
       "       2.08291579e+01, 1.05052959e+01, 1.26424170e+00, 3.47699574e-02,\n",
       "       4.35042113e+00, 7.56984105e-01, 3.27315294e+00, 8.40036763e+00,\n",
       "       1.47920019e+00, 2.08159568e+00, 6.35626775e+00, 4.05308965e+00,\n",
       "       1.56915775e+01, 8.65905299e+00, 1.21749589e+01, 1.61064399e+00,\n",
       "       4.63586813e-01, 2.40560035e+01, 4.40551756e+00, 5.87572158e+00,\n",
       "       3.20796702e+00, 1.46937274e+01, 1.86522401e+00, 3.07542362e+01,\n",
       "       1.15855378e+00, 8.06267247e-02, 5.94924591e+00, 5.68211655e+00,\n",
       "       2.77553117e-02, 1.62479434e+01, 1.05653347e+00, 1.66936560e+01])"
      ]
     },
     "execution_count": 31,
     "metadata": {},
     "output_type": "execute_result"
    }
   ],
   "source": [
    "x**2"
   ]
  },
  {
   "cell_type": "code",
   "execution_count": 64,
   "metadata": {},
   "outputs": [
    {
     "data": {
      "text/plain": [
       "11"
      ]
     },
     "execution_count": 64,
     "metadata": {},
     "output_type": "execute_result"
    }
   ],
   "source": [
    "import cv2\n",
    "import matplotlib.pyplot as plt\n",
    "import numpy as np\n",
    "\n",
    "# Step 1: Create a Matplotlib graph with red dots\n",
    "#np.random.seed(0)  # For reproducibility\n",
    "x = np.random.rand(10) * 10  # Random x coordinates\n",
    "y = np.random.rand(10) * 10  # Random y coordinates\n",
    "\n",
    "plt.figure(figsize=(6, 4))\n",
    "plt.scatter(x, y, color='red')  # Scatter plot with red dots\n",
    "#plt.grid(True)\n",
    "\n",
    "# Step 2: Save the graph as an image\n",
    "image_path = 'C:/Users/milar/Desktop/My_Asus_folder/Codes/Docusaurus_site_git/my-website/docs/jnb/red_dots_plot.png'\n",
    "plt.savefig(image_path, dpi=300)\n",
    "plt.close()\n",
    "\n",
    "# Step 3: Process the image with OpenCV to count the red dots\n",
    "\n",
    "# Read the saved image\n",
    "image = cv2.imread(image_path)\n",
    "\n",
    "# Convert the image to the RGB color space (OpenCV uses BGR by default)\n",
    "image_rgb = cv2.cvtColor(image, cv2.COLOR_BGR2RGB)\n",
    "\n",
    "# Define the range for red color in RGB\n",
    "lower_red = np.array([100, 0, 0])\n",
    "upper_red = np.array([255, 100, 100])\n",
    "\n",
    "# Create a mask that isolates the red dots\n",
    "mask = cv2.inRange(image_rgb, lower_red, upper_red)\n",
    "\n",
    "# Find contours in the mask\n",
    "contours, _ = cv2.findContours(mask, cv2.RETR_EXTERNAL, cv2.CHAIN_APPROX_SIMPLE)\n",
    "\n",
    "# Count the number of red dots\n",
    "num_red_dots = len(contours)\n",
    "\n",
    "num_red_dots"
   ]
  },
  {
   "cell_type": "code",
   "execution_count": 69,
   "metadata": {},
   "outputs": [
    {
     "name": "stdout",
     "output_type": "stream",
     "text": [
      "Estimated value of Pi: 3.14146\n"
     ]
    }
   ],
   "source": [
    "import random\n",
    "\n",
    "def estimate_pi(num_samples):\n",
    "    inside_circle = 0\n",
    "\n",
    "    for _ in range(num_samples):\n",
    "        x, y = random.random(), random.random()\n",
    "        if x**2 + y**2 <= 1:\n",
    "            inside_circle += 1\n",
    "\n",
    "    return (inside_circle / num_samples) * 4\n",
    "\n",
    "# Example usage\n",
    "num_samples = 1000000  # The more samples, the more accurate the estimate\n",
    "pi_estimate = estimate_pi(num_samples)\n",
    "print(f\"Estimated value of Pi: {pi_estimate}\")\n"
   ]
  }
 ],
 "metadata": {
  "kernelspec": {
   "display_name": "Data_Science",
   "language": "python",
   "name": "python3"
  },
  "language_info": {
   "codemirror_mode": {
    "name": "ipython",
    "version": 3
   },
   "file_extension": ".py",
   "mimetype": "text/x-python",
   "name": "python",
   "nbconvert_exporter": "python",
   "pygments_lexer": "ipython3",
   "version": "3.11.5"
  }
 },
 "nbformat": 4,
 "nbformat_minor": 2
}
