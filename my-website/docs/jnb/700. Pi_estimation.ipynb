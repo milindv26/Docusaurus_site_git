{
 "cells": [
  {
   "cell_type": "code",
   "execution_count": 1,
   "metadata": {},
   "outputs": [],
   "source": [
    "import numpy as np\n",
    "import matplotlib.pyplot as plt"
   ]
  },
  {
   "cell_type": "code",
   "execution_count": 84,
   "metadata": {},
   "outputs": [],
   "source": [
    "import matplotlib.pyplot as plt\n",
    "import matplotlib.patches as patches\n",
    "import numpy as np\n",
    "import random\n",
    "\n",
    "#np.random.seed(10)\n",
    "filenames = []\n",
    "for i in range(6):\n",
    "    # Create a figure and axis\n",
    "    fig, ax = plt.subplots()\n",
    "\n",
    "    # Creating a square with unit side (1x1)\n",
    "    square = patches.Rectangle((-0.5, -0.5), 1, 1, edgecolor='blue', facecolor=\"none\")\n",
    "    ax.add_patch(square)\n",
    "\n",
    "    # Creating a circle with unit radius\n",
    "    circle = plt.Circle((3, 0), radius=1, edgecolor='red', facecolor=\"none\")\n",
    "    ax.add_patch(circle)\n",
    "\n",
    "    # Setting the limits of the plot\n",
    "    ax.set_xlim(-2, 5)\n",
    "    ax.set_ylim(-2, 2)\n",
    "\n",
    "    # Equal aspect ratio to ensure the square and circle are shown correctly\n",
    "    ax.set_aspect('equal', adjustable='box')\n",
    "    plt.axhline(y=0, color='green', linestyle='dotted')\n",
    "    plt.axvline(x=0, color='green', linestyle='dotted')\n",
    "    plt.axvline(x=3, color='green', linestyle='dotted')\n",
    "    #plt.axvline(x=2.5, color='green', linestyle='dotted')\n",
    "\n",
    "    # Adding arrows\n",
    "    plt.annotate('', xy=(-0.5, -0.7), xytext=(0.5, -0.7), arrowprops=dict(arrowstyle='<->', color='black'))\n",
    "    plt.text(0, -1, '1 unit', ha='center')\n",
    "\n",
    "    plt.annotate('', xy=(3,0), xytext=( np.cos(np.pi/4)+3,  np.sin(np.pi/4)), arrowprops=dict(arrowstyle='<-', color='black'))\n",
    "    plt.text(3.5, 0.1, '1 unit', ha='center')\n",
    "\n",
    "\n",
    "    x, y = np.random.uniform(-2, 5, 100), np.random.uniform(-2, 2, 100)\n",
    "    z=((x-3)**2)+(y**2)\n",
    "    \n",
    "    A = np.column_stack((x, y, z))\n",
    "    mask = A[:, 2] <= 1\n",
    "    A = A[mask]\n",
    "    \n",
    "    square_condition = (x >= -0.5) & (x <= 0.5) & (y >= -0.5) & (y <= 0.5)\n",
    "    inside_square = np.sum(square_condition)\n",
    "    inside_circle = np.sum(z <= 1)\n",
    "    plt.scatter(x, y,s=5)\n",
    "    plt.title(f'Step {i}/5')\n",
    "    \n",
    "    # Save frame\n",
    "    filename = f'frames/step_{i}.png'\n",
    "    filenames.append(filename)\n",
    "    plt.savefig(filename)\n",
    "    plt.close()\n",
    "    \n",
    "    \n",
    "   \n"
   ]
  },
  {
   "cell_type": "code",
   "execution_count": 87,
   "metadata": {},
   "outputs": [
    {
     "data": {
      "text/plain": [
       "array([[ 2.92872466,  0.05733907,  0.00836794],\n",
       "       [ 2.31644826,  0.59329861,  0.81924622],\n",
       "       [ 3.18991003,  0.72078428,  0.55559579],\n",
       "       [ 2.68301043,  0.90667593,  0.92254364],\n",
       "       [ 3.30266353,  0.72515332,  0.61745255],\n",
       "       [ 2.07973221,  0.07840696,  0.85304045],\n",
       "       [ 2.77390586, -0.26852793,  0.12322581]])"
      ]
     },
     "execution_count": 87,
     "metadata": {},
     "output_type": "execute_result"
    }
   ],
   "source": [
    "A = np.column_stack((x, y, z))\n",
    "mask = A[:, 2] <= 1\n",
    "A = A[mask]\n",
    "A"
   ]
  },
  {
   "cell_type": "code",
   "execution_count": 85,
   "metadata": {},
   "outputs": [
    {
     "data": {
      "text/plain": [
       "array([[ 2.92872466e+00,  5.73390672e-02,  8.36794252e-03],\n",
       "       [ 2.07176062e+00,  1.24116481e+00,  2.40211844e+00],\n",
       "       [ 1.72681410e+00, -1.92051743e+00,  5.30938955e+00],\n",
       "       [ 1.57296537e+00, -6.07075251e-01,  2.40496820e+00],\n",
       "       [-8.91560970e-01,  9.62693911e-01,  1.60710264e+01],\n",
       "       [ 4.84126061e+00, -1.09821722e-01,  3.40230145e+00],\n",
       "       [-5.12678608e-01, -6.78062523e-01,  1.27986798e+01],\n",
       "       [ 1.47193751e+00, -6.35997676e-01,  2.73946802e+00],\n",
       "       [ 2.69882135e-01, -1.41434489e+00,  9.45391501e+00],\n",
       "       [ 2.31644826e+00,  5.93298612e-01,  8.19246219e-01],\n",
       "       [ 1.04137132e+00,  1.52968321e+00,  6.17615701e+00],\n",
       "       [ 1.24619891e-01, -2.68088566e-01,  8.33968225e+00],\n",
       "       [ 4.29231736e+00, -6.09536202e-02,  1.67379950e+00],\n",
       "       [ 8.10156787e-01,  8.41982333e-01,  5.50434755e+00],\n",
       "       [ 4.21266233e-01,  9.56244376e-02,  6.65901187e+00],\n",
       "       [ 6.47196870e-01,  3.62076731e-01,  5.66678213e+00],\n",
       "       [ 2.23507032e+00, -1.17299328e+00,  1.96103065e+00],\n",
       "       [ 2.84021242e+00, -1.36637727e+00,  1.89251891e+00],\n",
       "       [-7.96366702e-01, -2.67263211e-01,  1.44838298e+01],\n",
       "       [-8.33108115e-01, -1.18423515e+00,  1.60951307e+01],\n",
       "       [ 1.10636197e-01,  1.96113425e+00,  1.21944707e+01],\n",
       "       [ 1.98311565e+00, -2.82428377e-01,  1.11381957e+00],\n",
       "       [ 1.19415967e+00,  1.43106289e+00,  5.30900030e+00],\n",
       "       [ 3.18991003e+00,  7.20784278e-01,  5.55595794e-01],\n",
       "       [ 4.53954656e-02, -3.55759807e-01,  8.85625300e+00],\n",
       "       [ 2.68301043e+00,  9.06675935e-01,  9.22543640e-01],\n",
       "       [ 2.72136404e+00, -1.36271041e+00,  1.93461767e+00],\n",
       "       [ 7.72736837e-01, -2.27402098e-01,  5.01241291e+00],\n",
       "       [ 1.80143550e-01,  6.68530110e-01,  8.39852290e+00],\n",
       "       [ 4.31701912e+00, -3.82808715e-01,  1.88108188e+00],\n",
       "       [-6.76617154e-02,  1.29089763e+00,  1.10769651e+01],\n",
       "       [-6.37964722e-01,  5.90764851e-01,  1.35837904e+01],\n",
       "       [ 2.57430758e+00,  1.32350166e+00,  1.93287067e+00],\n",
       "       [ 1.87695311e+00,  1.90003690e+00,  4.87137454e+00],\n",
       "       [ 3.66025121e+00,  1.92025329e+00,  4.12330436e+00],\n",
       "       [ 1.05300329e+00, -2.99974027e-01,  3.88078061e+00],\n",
       "       [ 2.33481407e+00, -1.57803490e+00,  2.93266647e+00],\n",
       "       [ 4.53838365e+00,  9.02276233e-01,  3.18072665e+00],\n",
       "       [ 4.92439568e+00,  1.45858172e+00,  5.83075934e+00],\n",
       "       [ 4.34618595e+00, -1.79979683e+00,  5.05148527e+00],\n",
       "       [ 3.30266353e+00,  7.25153323e-01,  6.17452554e-01],\n",
       "       [ 4.27587910e+00, -1.34178089e+00,  3.42824345e+00],\n",
       "       [ 4.45553615e+00,  1.41318195e+00,  4.11566870e+00],\n",
       "       [ 4.52316437e+00, -1.86178726e+00,  5.78628151e+00],\n",
       "       [ 2.07973221e+00,  7.84069580e-02,  8.53040449e-01],\n",
       "       [-1.85934456e+00, -5.20730554e-01,  2.38843899e+01],\n",
       "       [ 1.95015021e+00,  1.71217013e+00,  4.03371115e+00],\n",
       "       [-5.97617975e-01,  3.68404746e-02,  1.29442123e+01],\n",
       "       [ 3.65802533e+00,  1.20508928e+00,  1.88523750e+00],\n",
       "       [ 2.49168257e-01,  7.81379442e-01,  8.17762911e+00],\n",
       "       [ 4.25890915e+00, -6.42670689e-01,  1.99787787e+00],\n",
       "       [ 1.45099497e+00, -9.68993704e-01,  3.33836538e+00],\n",
       "       [-1.53989455e+00, -8.29570824e-01,  2.12988303e+01],\n",
       "       [-1.06420129e+00, -9.90084492e-01,  1.74979994e+01],\n",
       "       [ 4.62839871e+00, -1.55711580e+00,  5.07629198e+00],\n",
       "       [ 3.97060672e+00, -1.14182131e+00,  2.24583331e+00],\n",
       "       [-1.62423023e+00, -1.82222264e+00,  2.47040005e+01],\n",
       "       [-8.56894320e-01, -1.68445210e+00,  1.77130127e+01],\n",
       "       [ 1.83056308e+00, -1.68427379e+00,  4.20436090e+00],\n",
       "       [-1.42177691e+00, -1.51298428e+00,  2.18412325e+01],\n",
       "       [ 1.41256300e+00, -9.78222739e-01,  3.47687594e+00],\n",
       "       [ 1.49677935e+00, -1.70018641e-01,  2.28857866e+00],\n",
       "       [ 1.54086885e+00, -1.21071888e+00,  3.59490391e+00],\n",
       "       [ 2.77390586e+00, -2.68527930e-01,  1.23225808e-01],\n",
       "       [-1.95165204e+00, -1.44173521e+00,  2.65974583e+01],\n",
       "       [-1.64862911e-01,  4.63634115e-01,  1.02313138e+01],\n",
       "       [ 2.85519462e-01,  1.72683632e+00,  1.03503683e+01],\n",
       "       [ 1.67385590e-02,  1.67612526e+00,  1.17092447e+01],\n",
       "       [ 3.86311672e+00,  9.66859612e-01,  1.67978798e+00],\n",
       "       [ 1.85344157e+00,  1.96109719e+00,  5.16049843e+00],\n",
       "       [ 4.14183346e+00, -3.80871888e-02,  1.30523429e+00],\n",
       "       [ 6.99168818e-01,  1.91663649e+00,  8.96731957e+00],\n",
       "       [ 1.67246330e+00, -1.06195200e-01,  1.77363111e+00],\n",
       "       [ 1.70189588e-01,  3.07498646e-01,  8.10238238e+00],\n",
       "       [-1.55003276e+00,  1.64809242e+00,  2.34190067e+01],\n",
       "       [ 4.24039245e-02, -5.79590693e-01,  9.08329992e+00],\n",
       "       [-1.50991910e+00, -7.83033337e-01,  2.09525115e+01],\n",
       "       [ 5.62550745e-01, -1.51783600e+00,  8.24498501e+00],\n",
       "       [ 1.07003137e+00,  1.82741398e-01,  3.75817334e+00],\n",
       "       [ 4.23540160e+00,  9.02405396e-01,  2.34055261e+00],\n",
       "       [ 2.77367373e-01,  1.60964107e-02,  7.41298751e+00],\n",
       "       [-1.92756932e+00,  1.45795277e+00,  2.64065657e+01],\n",
       "       [ 2.85308905e+00,  1.32483128e+00,  1.77676074e+00],\n",
       "       [-1.40788100e+00, -5.98118887e-01,  1.97871611e+01],\n",
       "       [ 2.79112681e+00, -1.11612644e+00,  1.28936623e+00],\n",
       "       [ 2.21750405e+00, -1.81698884e+00,  3.91374836e+00],\n",
       "       [ 3.12505500e-01, -2.33179674e-01,  7.27699945e+00],\n",
       "       [ 1.27201851e+00, -4.79210153e-01,  3.21556241e+00],\n",
       "       [ 1.96348624e+00, -7.33808776e-01,  1.61283610e+00],\n",
       "       [-4.88673097e-01, -6.42548805e-01,  1.25837089e+01],\n",
       "       [-1.02318384e+00,  5.10043442e-02,  1.61886096e+01],\n",
       "       [ 1.47226004e+00, -9.27198437e-01,  3.19368632e+00],\n",
       "       [ 4.84990595e+00,  5.55991828e-01,  3.73127892e+00],\n",
       "       [ 1.26544932e+00, -1.90573730e+00,  6.64050072e+00],\n",
       "       [-6.89433426e-01,  1.23386710e+00,  1.51343470e+01],\n",
       "       [ 2.75626429e+00,  1.19320536e+00,  1.48314613e+00],\n",
       "       [ 4.46237631e+00, -1.54428097e+00,  4.52334816e+00],\n",
       "       [ 1.05325108e+00, -8.56975245e-01,  4.52423793e+00],\n",
       "       [ 1.41088045e+00,  1.80800181e+00,  5.79417149e+00],\n",
       "       [-1.05045262e+00,  1.59987405e+00,  1.89657634e+01]])"
      ]
     },
     "execution_count": 85,
     "metadata": {},
     "output_type": "execute_result"
    }
   ],
   "source": [
    "np.column_stack((x, y, z))"
   ]
  },
  {
   "cell_type": "code",
   "execution_count": 48,
   "metadata": {},
   "outputs": [
    {
     "data": {
      "text/plain": [
       "5"
      ]
     },
     "execution_count": 48,
     "metadata": {},
     "output_type": "execute_result"
    }
   ],
   "source": [
    "inside_circle"
   ]
  },
  {
   "cell_type": "code",
   "execution_count": 42,
   "metadata": {},
   "outputs": [
    {
     "data": {
      "text/plain": [
       "array([ 0.70912837, 26.85751349,  4.25569491,  0.06076211,  3.84517181,\n",
       "       11.94297172, 13.84462222,  0.79784053, 17.3561302 , 19.93528949])"
      ]
     },
     "execution_count": 42,
     "metadata": {},
     "output_type": "execute_result"
    }
   ],
   "source": [
    "((x-3)**2)+(y**2)"
   ]
  },
  {
   "cell_type": "code",
   "execution_count": 31,
   "metadata": {},
   "outputs": [
    {
     "data": {
      "text/plain": [
       "array([8.42238295e+00, 1.30839885e-01, 2.00271950e+01, 1.62484446e+01,\n",
       "       4.44539698e-02, 2.14735315e+01, 4.70722359e+00, 3.14341789e+01,\n",
       "       3.55958362e+01, 4.41634221e-01, 3.19523569e+01, 2.65188333e+01,\n",
       "       7.32395026e+00, 2.64225847e+00, 2.68872945e+01, 2.01173171e-01,\n",
       "       2.24589574e+01, 1.43319541e+01, 3.34378771e+00, 3.02213255e+00,\n",
       "       1.94755714e+01, 1.28327777e+01, 3.46650553e+01, 4.21299393e+00,\n",
       "       2.05244163e-01, 1.67932358e+00, 3.84177481e+00, 2.59481934e+00,\n",
       "       2.16684879e+00, 2.78538319e+00, 6.23816585e+00, 7.31524075e+00,\n",
       "       1.46108053e+01, 1.39515040e+00, 2.53498845e+01, 1.17681687e+00,\n",
       "       3.33861013e+01, 3.38934711e+00, 8.81509522e-01, 3.43816390e+01,\n",
       "       6.34584968e+00, 7.75519095e+00, 3.68614637e+00, 1.71263758e+00,\n",
       "       3.40031715e+00, 2.81310218e+01, 1.75396090e+00, 3.85514211e+00,\n",
       "       6.86308907e+00, 5.82788056e-04, 1.46864806e-05, 5.11357229e+00,\n",
       "       1.49605211e+01, 3.23792789e+01, 2.62208506e-02, 1.17283528e+00,\n",
       "       7.67229698e-02, 1.27270439e+01, 3.24829788e+01, 2.70082232e+01,\n",
       "       1.25302419e-02, 2.45626510e+01, 3.30450571e-01, 2.28381633e+01,\n",
       "       1.79818411e+01, 2.03143330e+00, 2.50241979e+01, 1.73243577e-01,\n",
       "       2.08291579e+01, 1.05052959e+01, 1.26424170e+00, 3.47699574e-02,\n",
       "       4.35042113e+00, 7.56984105e-01, 3.27315294e+00, 8.40036763e+00,\n",
       "       1.47920019e+00, 2.08159568e+00, 6.35626775e+00, 4.05308965e+00,\n",
       "       1.56915775e+01, 8.65905299e+00, 1.21749589e+01, 1.61064399e+00,\n",
       "       4.63586813e-01, 2.40560035e+01, 4.40551756e+00, 5.87572158e+00,\n",
       "       3.20796702e+00, 1.46937274e+01, 1.86522401e+00, 3.07542362e+01,\n",
       "       1.15855378e+00, 8.06267247e-02, 5.94924591e+00, 5.68211655e+00,\n",
       "       2.77553117e-02, 1.62479434e+01, 1.05653347e+00, 1.66936560e+01])"
      ]
     },
     "execution_count": 31,
     "metadata": {},
     "output_type": "execute_result"
    }
   ],
   "source": [
    "x**2"
   ]
  },
  {
   "cell_type": "code",
   "execution_count": 64,
   "metadata": {},
   "outputs": [
    {
     "data": {
      "text/plain": [
       "11"
      ]
     },
     "execution_count": 64,
     "metadata": {},
     "output_type": "execute_result"
    }
   ],
   "source": [
    "import cv2\n",
    "import matplotlib.pyplot as plt\n",
    "import numpy as np\n",
    "\n",
    "# Step 1: Create a Matplotlib graph with red dots\n",
    "#np.random.seed(0)  # For reproducibility\n",
    "x = np.random.rand(10) * 10  # Random x coordinates\n",
    "y = np.random.rand(10) * 10  # Random y coordinates\n",
    "\n",
    "plt.figure(figsize=(6, 4))\n",
    "plt.scatter(x, y, color='red')  # Scatter plot with red dots\n",
    "#plt.grid(True)\n",
    "\n",
    "# Step 2: Save the graph as an image\n",
    "image_path = 'C:/Users/milar/Desktop/My_Asus_folder/Codes/Docusaurus_site_git/my-website/docs/jnb/red_dots_plot.png'\n",
    "plt.savefig(image_path, dpi=300)\n",
    "plt.close()\n",
    "\n",
    "# Step 3: Process the image with OpenCV to count the red dots\n",
    "\n",
    "# Read the saved image\n",
    "image = cv2.imread(image_path)\n",
    "\n",
    "# Convert the image to the RGB color space (OpenCV uses BGR by default)\n",
    "image_rgb = cv2.cvtColor(image, cv2.COLOR_BGR2RGB)\n",
    "\n",
    "# Define the range for red color in RGB\n",
    "lower_red = np.array([100, 0, 0])\n",
    "upper_red = np.array([255, 100, 100])\n",
    "\n",
    "# Create a mask that isolates the red dots\n",
    "mask = cv2.inRange(image_rgb, lower_red, upper_red)\n",
    "\n",
    "# Find contours in the mask\n",
    "contours, _ = cv2.findContours(mask, cv2.RETR_EXTERNAL, cv2.CHAIN_APPROX_SIMPLE)\n",
    "\n",
    "# Count the number of red dots\n",
    "num_red_dots = len(contours)\n",
    "\n",
    "num_red_dots"
   ]
  },
  {
   "cell_type": "code",
   "execution_count": 69,
   "metadata": {},
   "outputs": [
    {
     "name": "stdout",
     "output_type": "stream",
     "text": [
      "Estimated value of Pi: 3.14146\n"
     ]
    }
   ],
   "source": [
    "import random\n",
    "\n",
    "def estimate_pi(num_samples):\n",
    "    inside_circle = 0\n",
    "\n",
    "    for _ in range(num_samples):\n",
    "        x, y = random.random(), random.random()\n",
    "        if x**2 + y**2 <= 1:\n",
    "            inside_circle += 1\n",
    "\n",
    "    return (inside_circle / num_samples) * 4\n",
    "\n",
    "# Example usage\n",
    "num_samples = 1000000  # The more samples, the more accurate the estimate\n",
    "pi_estimate = estimate_pi(num_samples)\n",
    "print(f\"Estimated value of Pi: {pi_estimate}\")\n"
   ]
  }
 ],
 "metadata": {
  "kernelspec": {
   "display_name": "Data_Science",
   "language": "python",
   "name": "python3"
  },
  "language_info": {
   "codemirror_mode": {
    "name": "ipython",
    "version": 3
   },
   "file_extension": ".py",
   "mimetype": "text/x-python",
   "name": "python",
   "nbconvert_exporter": "python",
   "pygments_lexer": "ipython3",
   "version": "3.11.5"
  }
 },
 "nbformat": 4,
 "nbformat_minor": 2
}
