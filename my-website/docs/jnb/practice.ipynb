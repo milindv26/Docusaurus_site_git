{
 "cells": [
  {
   "cell_type": "code",
   "execution_count": 3,
   "metadata": {},
   "outputs": [
    {
     "data": {
      "text/plain": [
       "{1: 2, 2: 5, 3: 1, 4: 3, 5: 2}"
      ]
     },
     "execution_count": 3,
     "metadata": {},
     "output_type": "execute_result"
    }
   ],
   "source": [
    "\n",
    "def frequency(nums):\n",
    "    freq_dict={}\n",
    "    for i in nums:\n",
    "        if i in freq_dict:\n",
    "            freq_dict[i]+=1\n",
    "        else:\n",
    "            freq_dict[i]=1\n",
    "    return freq_dict\n",
    "\n",
    "frequency([1,1,2,3,4,4,4,5,5,2,2,2,2])"
   ]
  },
  {
   "cell_type": "code",
   "execution_count": 6,
   "metadata": {},
   "outputs": [
    {
     "data": {
      "text/plain": [
       "'No such numbers in the array'"
      ]
     },
     "execution_count": 6,
     "metadata": {},
     "output_type": "execute_result"
    }
   ],
   "source": [
    "def target_sum(arr, target):\n",
    "    left,right=0,len(arr)-1\n",
    "    while left < right:\n",
    "        current_sum=arr[left] + arr[right]\n",
    "        if current_sum == target:\n",
    "            return [arr[left],arr[right]]\n",
    "        elif current_sum < target:\n",
    "            left+=1\n",
    "        else:\n",
    "            right-=1\n",
    "    return 'No such numbers in the array'\n",
    "target_sum([1,2,3,4,4,6],500)\n"
   ]
  },
  {
   "cell_type": "code",
   "execution_count": null,
   "metadata": {},
   "outputs": [],
   "source": [
    "S"
   ]
  }
 ],
 "metadata": {
  "kernelspec": {
   "display_name": "Data_Science",
   "language": "python",
   "name": "python3"
  },
  "language_info": {
   "codemirror_mode": {
    "name": "ipython",
    "version": 3
   },
   "file_extension": ".py",
   "mimetype": "text/x-python",
   "name": "python",
   "nbconvert_exporter": "python",
   "pygments_lexer": "ipython3",
   "version": "3.11.5"
  }
 },
 "nbformat": 4,
 "nbformat_minor": 2
}
