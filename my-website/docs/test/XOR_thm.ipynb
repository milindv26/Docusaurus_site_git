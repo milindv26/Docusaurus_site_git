{
 "cells": [
  {
   "cell_type": "code",
   "execution_count": 1,
   "metadata": {},
   "outputs": [],
   "source": [
    "import numpy as np"
   ]
  },
  {
   "cell_type": "markdown",
   "metadata": {},
   "source": [
    "Given:\n",
    "\n",
    "$Y$ is a random variable of unknown distribution over $\\{0,1\\}^n$.\n",
    "\n",
    "$X$ is uniformly distributed random variable over $\\{0,1\\}^n$.\n",
    "\n",
    "$X$ and $Y$ are independent.\n",
    "\n",
    "Theorem:\n",
    "\n",
    "Then $Z(:=Y\\oplus X)$ is uniformly distributed random variable over $\\{0,1\\}^n$."
   ]
  },
  {
   "cell_type": "code",
   "execution_count": 15,
   "metadata": {},
   "outputs": [
    {
     "name": "stdout",
     "output_type": "stream",
     "text": [
      "['0000', '0001', '0010', '0011', '0100', '0101', '0110', '0111', '1000', '1001', '1010', '1011', '1100', '1101', '1110', '1111']\n"
     ]
    }
   ],
   "source": [
    "from itertools import product\n",
    "\n",
    "def generate_permutations(n):\n",
    "    # Use product to generate all permutations of {0, 1} with length n\n",
    "    permutations = list(product([0, 1], repeat=n))\n",
    "    \n",
    "    # Convert the tuples to strings for readability (optional)\n",
    "    permutations = [''.join(map(str, perm)) for perm in permutations]\n",
    "    \n",
    "    return permutations\n",
    "\n",
    "# Example usage:\n",
    "n = 4\n",
    "result = generate_permutations(n)\n",
    "print(result)\n"
   ]
  },
  {
   "cell_type": "code",
   "execution_count": 9,
   "metadata": {},
   "outputs": [
    {
     "name": "stdout",
     "output_type": "stream",
     "text": [
      "27\n"
     ]
    }
   ],
   "source": [
    "a = 1010  # Binary: 1010\n",
    "b = 1001   # Binary: 0110\n",
    "\n",
    "result = a ^ b\n",
    "print(result)  # Output will be 12 (Binary: 1100)\n"
   ]
  },
  {
   "cell_type": "code",
   "execution_count": 13,
   "metadata": {},
   "outputs": [
    {
     "data": {
      "text/plain": [
       "11"
      ]
     },
     "execution_count": 13,
     "metadata": {},
     "output_type": "execute_result"
    }
   ],
   "source": [
    "int('1011', 2)"
   ]
  },
  {
   "cell_type": "code",
   "execution_count": 14,
   "metadata": {},
   "outputs": [
    {
     "data": {
      "text/plain": [
       "'0b1011'"
      ]
     },
     "execution_count": 14,
     "metadata": {},
     "output_type": "execute_result"
    }
   ],
   "source": [
    "bin(int('1011', 2))"
   ]
  }
 ],
 "metadata": {
  "kernelspec": {
   "display_name": "Data_Science",
   "language": "python",
   "name": "python3"
  },
  "language_info": {
   "codemirror_mode": {
    "name": "ipython",
    "version": 3
   },
   "file_extension": ".py",
   "mimetype": "text/x-python",
   "name": "python",
   "nbconvert_exporter": "python",
   "pygments_lexer": "ipython3",
   "version": "3.11.5"
  }
 },
 "nbformat": 4,
 "nbformat_minor": 2
}
